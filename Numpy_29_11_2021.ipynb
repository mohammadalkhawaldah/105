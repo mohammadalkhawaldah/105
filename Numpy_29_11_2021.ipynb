{
  "nbformat": 4,
  "nbformat_minor": 0,
  "metadata": {
    "colab": {
      "name": "Numpy-29-11-2021.ipynb",
      "provenance": [],
      "collapsed_sections": [],
      "authorship_tag": "ABX9TyOvKSHnykHKmqcEHMHsvvfk",
      "include_colab_link": true
    },
    "kernelspec": {
      "name": "python3",
      "display_name": "Python 3"
    },
    "language_info": {
      "name": "python"
    }
  },
  "cells": [
    {
      "cell_type": "markdown",
      "metadata": {
        "id": "view-in-github",
        "colab_type": "text"
      },
      "source": [
        "<a href=\"https://colab.research.google.com/github/mohammadalkhawaldah/105/blob/main/Numpy_29_11_2021.ipynb\" target=\"_parent\"><img src=\"https://colab.research.google.com/assets/colab-badge.svg\" alt=\"Open In Colab\"/></a>"
      ]
    },
    {
      "cell_type": "code",
      "metadata": {
        "id": "MR9XzoSnpglj"
      },
      "source": [
        "import numpy as np"
      ],
      "execution_count": 3,
      "outputs": []
    },
    {
      "cell_type": "code",
      "metadata": {
        "colab": {
          "base_uri": "https://localhost:8080/"
        },
        "id": "vzYo03nlpJAG",
        "outputId": "7eb0a34e-b53b-46c3-ddd4-d4893a0e72bd"
      },
      "source": [
        "np.random.random((2, 3))"
      ],
      "execution_count": 4,
      "outputs": [
        {
          "output_type": "execute_result",
          "data": {
            "text/plain": [
              "array([[0.46005612, 0.52840693, 0.9499013 ],\n",
              "       [0.29770361, 0.0905282 , 0.95649304]])"
            ]
          },
          "metadata": {},
          "execution_count": 4
        }
      ]
    },
    {
      "cell_type": "code",
      "metadata": {
        "colab": {
          "base_uri": "https://localhost:8080/"
        },
        "id": "8Zqmjxhlp4cv",
        "outputId": "e19314e5-2d8d-4d3f-a86a-09056386a164"
      },
      "source": [
        "np.random.randn(2,3)"
      ],
      "execution_count": 5,
      "outputs": [
        {
          "output_type": "execute_result",
          "data": {
            "text/plain": [
              "array([[-0.49541876, -0.88989459,  1.35149042],\n",
              "       [ 0.7161945 , -0.39205819,  1.11940255]])"
            ]
          },
          "metadata": {},
          "execution_count": 5
        }
      ]
    },
    {
      "cell_type": "code",
      "metadata": {
        "id": "kfgoHw2vpZqL"
      },
      "source": [
        "R = np.random.randn(1000)\n"
      ],
      "execution_count": 11,
      "outputs": []
    },
    {
      "cell_type": "code",
      "metadata": {
        "colab": {
          "base_uri": "https://localhost:8080/"
        },
        "id": "gwMRCw2tqjAt",
        "outputId": "a6185a8a-5559-432f-ff0d-b25b46fe7622"
      },
      "source": [
        "R.mean()"
      ],
      "execution_count": 12,
      "outputs": [
        {
          "output_type": "execute_result",
          "data": {
            "text/plain": [
              "0.00451128385449126"
            ]
          },
          "metadata": {},
          "execution_count": 12
        }
      ]
    },
    {
      "cell_type": "code",
      "metadata": {
        "id": "fJETEpXaq6Mq"
      },
      "source": [
        "np.random.randint(0, 10, size = (20,20))"
      ],
      "execution_count": null,
      "outputs": []
    },
    {
      "cell_type": "code",
      "metadata": {
        "id": "3V3S9ZMXqcX0"
      },
      "source": [
        ""
      ],
      "execution_count": null,
      "outputs": []
    },
    {
      "cell_type": "markdown",
      "metadata": {
        "id": "A1Ec4B8irvp2"
      },
      "source": [
        "LINE CHART\n"
      ]
    },
    {
      "cell_type": "code",
      "metadata": {
        "id": "kXCW0COcrzRA"
      },
      "source": [
        "import numpy as np\n",
        "import matplotlib.pyplot as plt"
      ],
      "execution_count": 19,
      "outputs": []
    },
    {
      "cell_type": "code",
      "metadata": {
        "id": "S2qgEF-KsBzg"
      },
      "source": [
        "x = np.linspace(0, 20, 100)\n"
      ],
      "execution_count": 29,
      "outputs": []
    },
    {
      "cell_type": "code",
      "metadata": {
        "id": "s9AePu62sfyO"
      },
      "source": [
        "y = np.sin(x) + 0.3 *x\n"
      ],
      "execution_count": 43,
      "outputs": []
    },
    {
      "cell_type": "code",
      "metadata": {
        "colab": {
          "base_uri": "https://localhost:8080/",
          "height": 295
        },
        "id": "NN4or2PuszVy",
        "outputId": "b0e472e5-2c27-4e94-c27b-3dde325c5a9e"
      },
      "source": [
        "plt.plot(x,y);\n",
        "plt.xlabel('INPUT');\n",
        "plt.ylabel('Output Voltage');\n",
        "plt.title(\"My_Figure\");"
      ],
      "execution_count": 50,
      "outputs": [
        {
          "output_type": "display_data",
          "data": {
            "image/png": "[encoded data removed]",
            "text/plain": [
              "<Figure size 432x288 with 1 Axes>"
            ]
          },
          "metadata": {
            "needs_background": "light"
          }
        }
      ]
    },
    {
      "cell_type": "code",
      "metadata": {
        "id": "vkkwa5xLufsQ"
      },
      "source": [
        ""
      ],
      "execution_count": null,
      "outputs": []
    },
    {
      "cell_type": "markdown",
      "metadata": {
        "id": "TLVSP6jyvR1d"
      },
      "source": [
        "SCATTER CHARTS\n"
      ]
    },
    {
      "cell_type": "code",
      "metadata": {
        "id": "i9PWmXuws54d"
      },
      "source": [
        ""
      ],
      "execution_count": null,
      "outputs": []
    },
    {
      "cell_type": "code",
      "metadata": {
        "id": "SA9TJRgsvXRZ"
      },
      "source": [
        "G = np.random.randn(200, 2)\n"
      ],
      "execution_count": 57,
      "outputs": []
    },
    {
      "cell_type": "code",
      "metadata": {
        "colab": {
          "base_uri": "https://localhost:8080/"
        },
        "id": "KHLBUWdnwyFq",
        "outputId": "668e7d41-ccc4-4f7f-cf03-5c820b904282"
      },
      "source": [
        "G[:,0]"
      ],
      "execution_count": 55,
      "outputs": [
        {
          "output_type": "execute_result",
          "data": {
            "text/plain": [
              "array([ 0.56062825, -0.19578034,  1.10357841, -0.60567989, -0.81721463])"
            ]
          },
          "metadata": {},
          "execution_count": 55
        }
      ]
    },
    {
      "cell_type": "code",
      "metadata": {
        "colab": {
          "base_uri": "https://localhost:8080/",
          "height": 283
        },
        "id": "3q_dxwV3vgJP",
        "outputId": "6b22e5b2-005f-4a66-f7a9-68698ae9151b"
      },
      "source": [
        "plt.scatter(G[:,0], G[:,1])"
      ],
      "execution_count": 62,
      "outputs": [
        {
          "output_type": "execute_result",
          "data": {
            "text/plain": [
              "<matplotlib.collections.PathCollection at 0x7f451b036190>"
            ]
          },
          "metadata": {},
          "execution_count": 62
        },
        {
          "output_type": "display_data",
          "data": {
            "image/png": "[encoded data removed]",
            "text/plain": [
              "<Figure size 432x288 with 1 Axes>"
            ]
          },
          "metadata": {
            "needs_background": "light"
          }
        }
      ]
    },
    {
      "cell_type": "code",
      "metadata": {
        "id": "NcRPPES2wDgd"
      },
      "source": [
        "x = np.random.randn(1000)"
      ],
      "execution_count": 63,
      "outputs": []
    },
    {
      "cell_type": "code",
      "metadata": {
        "colab": {
          "base_uri": "https://localhost:8080/",
          "height": 265
        },
        "id": "CjWRFKB-0av6",
        "outputId": "e4c46053-a1e2-42a7-ccd3-45423d1c43a9"
      },
      "source": [
        "plt.hist(x);"
      ],
      "execution_count": 65,
      "outputs": [
        {
          "output_type": "display_data",
          "data": {
            "image/png": "[encoded data removed]",
            "text/plain": [
              "<Figure size 432x288 with 1 Axes>"
            ]
          },
          "metadata": {
            "needs_background": "light"
          }
        }
      ]
    },
    {
      "cell_type": "code",
      "metadata": {
        "colab": {
          "base_uri": "https://localhost:8080/",
          "height": 265
        },
        "id": "RCvmqaxU0ttr",
        "outputId": "7ae5b21b-60d9-4552-eaf4-fa0b599d4025"
      },
      "source": [
        "plt.hist(x,bins=50);"
      ],
      "execution_count": 67,
      "outputs": [
        {
          "output_type": "display_data",
          "data": {
            "image/png": "[encoded data removed]",
            "text/plain": [
              "<Figure size 432x288 with 1 Axes>"
            ]
          },
          "metadata": {
            "needs_background": "light"
          }
        }
      ]
    },
    {
      "cell_type": "code",
      "metadata": {
        "colab": {
          "base_uri": "https://localhost:8080/",
          "height": 265
        },
        "id": "ps28DnRg03P_",
        "outputId": "e17dacd1-0dc8-4cd5-a386-1fb4b3d54832"
      },
      "source": [
        "plt.hist(x,bins=10);"
      ],
      "execution_count": 70,
      "outputs": [
        {
          "output_type": "display_data",
          "data": {
            "image/png": "[encoded data removed]",
            "text/plain": [
              "<Figure size 432x288 with 1 Axes>"
            ]
          },
          "metadata": {
            "needs_background": "light"
          }
        }
      ]
    },
    {
      "cell_type": "code",
      "metadata": {
        "id": "vZgsg76d05iv"
      },
      "source": [
        ""
      ],
      "execution_count": null,
      "outputs": []
    }
  ]
}